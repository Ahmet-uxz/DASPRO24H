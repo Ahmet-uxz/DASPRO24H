{
 "cells": [
  {
   "attachments": {},
   "cell_type": "markdown",
   "id": "7142d91e",
   "metadata": {},
   "source": [
    "<center><img src=\"https://1000logos.net/wp-content/uploads/2020/08/Python-Logo.png\" width=\"200\"></center><br>\n",
    "pada jupyter notebooks jenis <b>cell</b> terbagi menjadi\n",
    "<ol>\n",
    "    <Li>M (Mark Down)-> M</Li>\n",
    "    <Li>Y (Code) -> Y</Li>\n",
    "</ol>\n",
    "<hr>"
   ]
  },
  {
   "cell_type": "markdown",
   "id": "6652c9b5",
   "metadata": {},
   "source": [
    "Cara menambahkan <b>cell</b> terbagi menjadi 2:\n",
    "<ul>\n",
    "    <Li>A -(Above) Menambah diatas cell aktif</Li>\n",
    "    <Li>B -(Below) Menambah dibawah cell aktif</Li>\n",
    "</ul>"
   ]
  },
  {
   "cell_type": "markdown",
   "id": "57e970fe",
   "metadata": {},
   "source": [
    "<table>\n",
    "    <tr>\n",
    "        <td>Perintah</td>\n",
    "        <td>Keterangan</td>\n",
    "    </tr>\n",
    "    <tr>\n",
    "        <td>ctrl + enter</td>\n",
    "        <td>Running Program dengan fokus di cell aktif</td>\n",
    "    </tr>\n",
    "    <tr>\n",
    "        <td>shift + enter</td>\n",
    "        <td>Running Program dengan di cell berikutnya</td>\n",
    "    </tr>\n",
    "</table>"
   ]
  },
  {
   "cell_type": "code",
   "execution_count": 1,
   "id": "840cebf4",
   "metadata": {},
   "outputs": [
    {
     "name": "stdout",
     "output_type": "stream",
     "text": [
      "pyhton is very easy\n",
      "4\n"
     ]
    },
    {
     "data": {
      "text/plain": [
       "6"
      ]
     },
     "execution_count": 1,
     "metadata": {},
     "output_type": "execute_result"
    }
   ],
   "source": [
    "# this is comment\n",
    "print(\"pyhton is very easy\")\n",
    "data = \"4\"\n",
    "print(data)\n",
    "data\n",
    "3+3"
   ]
  },
  {
   "cell_type": "code",
   "execution_count": null,
   "id": "2c301d83",
   "metadata": {},
   "outputs": [],
   "source": []
  }
 ],
 "metadata": {
  "kernelspec": {
   "display_name": "Python 3 (ipykernel)",
   "language": "python",
   "name": "python3"
  },
  "language_info": {
   "codemirror_mode": {
    "name": "ipython",
    "version": 3
   },
   "file_extension": ".py",
   "mimetype": "text/x-python",
   "name": "python",
   "nbconvert_exporter": "python",
   "pygments_lexer": "ipython3",
   "version": "3.9.12"
  }
 },
 "nbformat": 4,
 "nbformat_minor": 5
}
