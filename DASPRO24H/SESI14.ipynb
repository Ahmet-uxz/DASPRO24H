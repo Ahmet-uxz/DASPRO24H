{
 "cells": [
  {
   "cell_type": "code",
   "execution_count": null,
   "id": "d0b082af",
   "metadata": {},
   "outputs": [],
   "source": [
    "try:\n",
    "    angka1 = int(input(\"angka 1 \"))\n",
    "    angka2 = int(input(\"angka 2 \"))\n",
    "    hasil = angka1 / angka2\n",
    "    print(hasil)\n",
    "except ZeroDivisionError:\n",
    "    print(\"Tidak boleh pembagian dengan 0 \")\n",
    "except ValueError:\n",
    "    print(\"Input harus angka\")\n",
    "else:\n",
    "    print(hasil)\n",
    "finally:\n",
    "    print(\"Program Selesai\")"
   ]
  },
  {
   "cell_type": "code",
   "execution_count": null,
   "id": "2c8d6663",
   "metadata": {},
   "outputs": [],
   "source": [
    "try:\n",
    "    angka1 = int(input(\"angka 1 \"))\n",
    "    angka2 = int(input(\"angka 2 \"))\n",
    "    hasil = angka1 / angka2\n",
    "except (ZeroDivisionError, ValueError) as e:\n",
    "    print(f\"Terjadi kesalahan, {e}\")\n",
    "else:\n",
    "    print(hasil)\n",
    "finally:\n",
    "    print(\"Program Selesai\")"
   ]
  },
  {
   "cell_type": "code",
   "execution_count": null,
   "id": "3ab33324",
   "metadata": {},
   "outputs": [],
   "source": [
    "try:\n",
    "    dataNilai = [100,90,80,70,60,100,70]\n",
    "    tampilData = int(input(\"Isikan urutan indeks:\"))\n",
    "    print(dataNilai[tampilData])\n",
    "except IndexError as ie:\n",
    "    print(f\"Terjadi Kesalahan: {ie}\")"
   ]
  },
  {
   "cell_type": "code",
   "execution_count": null,
   "id": "0491114c",
   "metadata": {},
   "outputs": [],
   "source": [
    "try:\n",
    "    dataMahasiswa = {\n",
    "        'Nim' : 20240040117,\n",
    "        'Nama' : \"Ahmat\",\n",
    "        'Alamat' : \"Sukabumi\",\n",
    "        'Kelas' : \"TI24H\",\n",
    "    }\n",
    "    print(dataMahasiswa[\"orangtua\"])\n",
    "except KeyError as ue:\n",
    "    print(f\"Terjadi kesalahan {ue}\")"
   ]
  },
  {
   "cell_type": "code",
   "execution_count": null,
   "id": "cd2c2067",
   "metadata": {},
   "outputs": [],
   "source": [
    "class NilaiNegatifError(Exception):\n",
    "    pass\n",
    "\n",
    "def cekNilai(x):\n",
    "    if(x<0):\n",
    "        raise NilaiNegatifError(\"Nilai Tidak Boleh Negatif\")\n",
    "        \n",
    "try:\n",
    "    cekNilai(-17)\n",
    "except NilaiNegatifError as negatif:\n",
    "    print(f\"Terjadi Kesalahan {negatif}\")"
   ]
  },
  {
   "cell_type": "code",
   "execution_count": null,
   "id": "2c420f69",
   "metadata": {},
   "outputs": [],
   "source": [
    "f = open(\"data.txt\",\"r\")\n",
    "konten = f.read()\n",
    "print(konten)\n",
    "f.close()"
   ]
  },
  {
   "cell_type": "code",
   "execution_count": null,
   "id": "e5569708",
   "metadata": {},
   "outputs": [],
   "source": [
    "try:\n",
    "    with open(\"data.txt\",\"r\") as f:\n",
    "        print(f.read())\n",
    "except FileNotFoundError as fnf:\n",
    "    print(f\"Terjadi Kesalahan: {fnf}\")\n",
    "else:\n",
    "    print(\"Data Sudah Selesai dibaca semuanya\")\n",
    "finally:\n",
    "    print(\"Program Selesai\")"
   ]
  },
  {
   "cell_type": "code",
   "execution_count": null,
   "id": "2b80ac4f",
   "metadata": {
    "scrolled": true
   },
   "outputs": [],
   "source": [
    "try:\n",
    "    with open(\"data.txt\",\"a\") as f:\n",
    "        f.write(\"Halo Apa Kabar!\\n\")\n",
    "        f.write(\"Sebentar lagi UAS!!\")\n",
    "except IOError:\n",
    "    print(IOError)\n",
    "else:\n",
    "    print(\"Proses Selesai!!\")"
   ]
  },
  {
   "cell_type": "code",
   "execution_count": null,
   "id": "fe1e6991",
   "metadata": {},
   "outputs": [],
   "source": []
  }
 ],
 "metadata": {
  "kernelspec": {
   "display_name": "Python 3 (ipykernel)",
   "language": "python",
   "name": "python3"
  },
  "language_info": {
   "codemirror_mode": {
    "name": "ipython",
    "version": 3
   },
   "file_extension": ".py",
   "mimetype": "text/x-python",
   "name": "python",
   "nbconvert_exporter": "python",
   "pygments_lexer": "ipython3",
   "version": "3.9.12"
  }
 },
 "nbformat": 4,
 "nbformat_minor": 5
}
