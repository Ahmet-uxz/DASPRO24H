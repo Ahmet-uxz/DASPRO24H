{
 "cells": [
  {
   "cell_type": "code",
   "execution_count": 4,
   "id": "084bc423",
   "metadata": {},
   "outputs": [
    {
     "name": "stdout",
     "output_type": "stream",
     "text": [
      "Nama : Wawan\n",
      "Alamat : Jl.Cisaat\n",
      "Umur : 32\n",
      "Nilai Pemrograman : 85.7\n",
      "Status Menikah : True\n",
      "Propinsi : 7413413\n"
     ]
    }
   ],
   "source": [
    "name = \"Wawan\"\n",
    "address,province = \"Jl.Cisaat\",\"7413413\"\n",
    "age = 32\n",
    "scorePython = 85.7\n",
    "isMarried = True\n",
    "\n",
    "print(\"Nama :\",name)\n",
    "print(\"Alamat :\",address)\n",
    "print(\"Umur :\",age)\n",
    "print(\"Nilai Pemrograman :\",scorePython)\n",
    "print(\"Status Menikah :\",isMarried)\n",
    "print(\"Propinsi :\",province)"
   ]
  },
  {
   "cell_type": "code",
   "execution_count": 2,
   "id": "9f5ef045",
   "metadata": {},
   "outputs": [
    {
     "name": "stdout",
     "output_type": "stream",
     "text": [
      "Tipe data <name> : <class 'str'>\n",
      "Tipe data <address> : <class 'str'>\n",
      "Tipe data <age> : <class 'int'>\n",
      "Tipe data <scorePython> : <class 'float'>\n",
      "Tipe data <isMarried : <class 'bool'>\n"
     ]
    }
   ],
   "source": [
    "print(\"Tipe data <name> :\",type(name))\n",
    "print(\"Tipe data <address> :\",type(address))\n",
    "print(\"Tipe data <age> :\",type(age))\n",
    "print(\"Tipe data <scorePython> :\",type(scorePython))\n",
    "print(\"Tipe data <isMarried :\",type(isMarried))"
   ]
  },
  {
   "cell_type": "code",
   "execution_count": 5,
   "id": "a5ddcdbe",
   "metadata": {},
   "outputs": [
    {
     "name": "stdout",
     "output_type": "stream",
     "text": [
      "7413415-7413413.0-True\n"
     ]
    }
   ],
   "source": [
    "#Casting / Konversi Tipe Data\n",
    "#1. String ke (int,float,boolean)\n",
    "strToInt = int(province)\n",
    "strToFloat = float(province)\n",
    "strToBool = bool(province)\n",
    "print(strToInt + 2,strToFloat,strToBool, sep=\"-\")"
   ]
  },
  {
   "cell_type": "code",
   "execution_count": 6,
   "id": "c4bf8583",
   "metadata": {},
   "outputs": [
    {
     "name": "stdout",
     "output_type": "stream",
     "text": [
      "32-32.0-True\n"
     ]
    }
   ],
   "source": [
    "#2. Int ke (str,float,boolean)\n",
    "intToStr = str(age)\n",
    "intToFloat = float(age)\n",
    "intToBool = bool(age)\n",
    "print(intToStr,intToFloat,intToBool, sep=\"-\")"
   ]
  },
  {
   "cell_type": "code",
   "execution_count": 7,
   "id": "80f7d9d1",
   "metadata": {},
   "outputs": [
    {
     "name": "stdout",
     "output_type": "stream",
     "text": [
      "85.7-85-True\n"
     ]
    }
   ],
   "source": [
    "floatToStr = str(scorePython)\n",
    "floatToInt = int(scorePython)\n",
    "floatToBool = bool(scorePython)\n",
    "print(floatToStr,floatToInt,floatToBool, sep=\"-\")"
   ]
  },
  {
   "cell_type": "code",
   "execution_count": 10,
   "id": "3f2d7579",
   "metadata": {},
   "outputs": [
    {
     "name": "stdout",
     "output_type": "stream",
     "text": [
      "Nilai desimal : 500\n",
      "Nilai biner: 10\n",
      "Nilai octal : 255\n",
      "Nilai hexa : 1091\n",
      "Nilai biner dari  500 : 0b111110100\n",
      "Nilai octal dari  500 : 0o764\n",
      "Nilai hexa dari  500 : 0x1f4\n"
     ]
    }
   ],
   "source": [
    "desimal = 500\n",
    "biner = 0b1010 #10\n",
    "octal = 0o377 #255\n",
    "hexa = 0x443 #1091\n",
    "\n",
    "print(\"Nilai desimal :\",desimal)\n",
    "print(\"Nilai biner:\",biner)\n",
    "print(\"Nilai octal :\",octal)\n",
    "print(\"Nilai hexa :\",hexa)\n",
    "\n",
    "print(\"Nilai biner dari \",desimal, \":\",bin(desimal))\n",
    "print(\"Nilai octal dari \",desimal, \":\",oct(desimal))\n",
    "print(\"Nilai hexa dari \",desimal, \":\",hex(desimal))"
   ]
  },
  {
   "cell_type": "code",
   "execution_count": 18,
   "id": "e6b370b3",
   "metadata": {},
   "outputs": [
    {
     "name": "stdout",
     "output_type": "stream",
     "text": [
      "S\n",
      "8\n",
      "I\n"
     ]
    }
   ],
   "source": [
    "city = \"SUKABUMI\"\n",
    "length = len(city)\n",
    "print(city[0])\n",
    "print(length)\n",
    "print(city[length - 1])"
   ]
  },
  {
   "cell_type": "code",
   "execution_count": 39,
   "id": "7f29fbfa",
   "metadata": {},
   "outputs": [
    {
     "name": "stdout",
     "output_type": "stream",
     "text": [
      "['Sukabumi', 'Bandung', 'Bogor', 'Jakarta']\n",
      "Sukabumi\n",
      "Jakarta\n",
      "J\n",
      "a\n",
      "['Bali', 'Bandung', 'Bogor', 'Jakarta']\n",
      "('Wawan', 'Wiwin', 'Wowon')\n",
      "Wiwin\n",
      "{'name': 'Antony', 'age': 25, 'address': {'street': 'Cijengkol', 'number': 10, 'province': 'Java'}, 'isMarried': True, 'hobbies': ['Football', 'Streatwear']}\n",
      "25\n",
      "Java\n",
      "Football\n",
      "{'name': 'Antony', 'age': 25, 'address': {'street': 'Cijengkol', 'number': 10, 'province': 'Java'}, 'isMarried': True, 'hobbies': ['Football', 'Streatwear']}\n",
      "Java\n",
      "['Football', 'Streatwear']\n"
     ]
    }
   ],
   "source": [
    "#Tipe data koleksi\n",
    "cities = [\"Sukabumi\",\"Bandung\",\"Bogor\",\"Jakarta\"]\n",
    "length = len(cities)\n",
    "print(cities)\n",
    "print(cities[0])\n",
    "print(cities[length - 1])\n",
    "print(cities[length - 1][0])\n",
    "print(cities[length - 1][len(cities[length-1])-1])\n",
    "cities[0] = \"Bali\"\n",
    "print(cities)\n",
    "\n",
    "names = (\"Wawan\",\"Wiwin\",\"Wowon\")\n",
    "print(names)\n",
    "print(names[1])\n",
    "\n",
    "studentData = {\n",
    "    \"name\" : \"Antony\",\n",
    "    \"age\" : 25,\n",
    "    \"address\" : {\n",
    "        \"street\" : \"Cijengkol\",\n",
    "        \"number\" : 10,\n",
    "        \"province\" : \"Java\"\n",
    "    },\n",
    "    \"isMarried\" : True,\n",
    "    \"hobbies\" : [\"Football\",\"Streatwear\"]\n",
    "}\n",
    "\n",
    "print(studentData)\n",
    "print(studentData[\"age\"])\n",
    "print(studentData[\"address\"][\"province\"])\n",
    "print(studentData[\"hobbies\"][0])\n",
    "\n",
    "studentList = [\n",
    "    {\n",
    "        \"name\" : \"Antony\",\n",
    "        \"age\" : 25,\n",
    "        \"address\" : {\n",
    "            \"street\" : \"Cijengkol\",\n",
    "            \"number\" : 10,\n",
    "            \"province\" : \"Java\"\n",
    "        },\n",
    "        \"isMarried\" : True,\n",
    "        \"hobbies\" : [\"Football\",\"Streatwear\"]\n",
    "    },\n",
    "    {\n",
    "        \"name\" : \"Mudryk\",\n",
    "        \"age\" : 28,\n",
    "        \"address\" : {\n",
    "            \"street\" : \"Cihaseum\",\n",
    "            \"number\" : 7,\n",
    "            \"province\" : \"Java\"\n",
    "        },\n",
    "        \"isMarried\" : False,\n",
    "        \"hobbies\" : [\"Football\",\"Quotes Religius\"]\n",
    "    }\n",
    "]\n",
    "\n",
    "print(studentList[0])\n",
    "print(studentList[1][\"address\"][\"province\"])\n",
    "print(studentList[0][\"hobbies\"])"
   ]
  },
  {
   "cell_type": "code",
   "execution_count": 45,
   "id": "2e26a4f9",
   "metadata": {},
   "outputs": [
    {
     "name": "stdout",
     "output_type": "stream",
     "text": [
      "{'Name': 'Andi', 'Age': '30', 'Status': True}\n",
      "{'Name': 'Rudi', 'Address': 'Bogor'}\n",
      "{'Name': 'Tiger', 'Type': 'Mamalia'}\n",
      "{'Name': 'Crocodile', 'Type': 'Reptil'}\n"
     ]
    }
   ],
   "source": [
    "#konversi dictionary\n",
    "\n",
    "list_list = [[\"Name\",\"Andi\"],[\"Age\",\"30\"],[\"Status\",True]]\n",
    "dictListStudent = dict(list_list)\n",
    "print(dictListStudent)\n",
    "\n",
    "list_tuple = [(\"Name\",\"Rudi\"),(\"Address\",\"Bogor\")]\n",
    "dictTupleStudent = dict(list_tuple)\n",
    "print(dictTupleStudent)\n",
    "\n",
    "tuple_list = ([\"Name\",\"Tiger\"],[\"Type\",\"Mamalia\"])\n",
    "dictListAnimal = dict(tuple_list)\n",
    "print(dictListAnimal)\n",
    "\n",
    "tuple_tuple = ((\"Name\",\"Crocodile\"),(\"Type\",\"Reptil\"))\n",
    "dictTupleAnimal = dict(tuple_tuple)\n",
    "print(dictTupleAnimal)\n",
    "\n"
   ]
  },
  {
   "cell_type": "code",
   "execution_count": null,
   "id": "330861c8",
   "metadata": {},
   "outputs": [],
   "source": []
  }
 ],
 "metadata": {
  "kernelspec": {
   "display_name": "Python 3 (ipykernel)",
   "language": "python",
   "name": "python3"
  },
  "language_info": {
   "codemirror_mode": {
    "name": "ipython",
    "version": 3
   },
   "file_extension": ".py",
   "mimetype": "text/x-python",
   "name": "python",
   "nbconvert_exporter": "python",
   "pygments_lexer": "ipython3",
   "version": "3.9.12"
  }
 },
 "nbformat": 4,
 "nbformat_minor": 5
}
